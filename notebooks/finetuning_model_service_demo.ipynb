{
 "cells": [
  {
   "cell_type": "markdown",
   "metadata": {},
   "source": [
    "# Model Fine-tuning Service Demo\n",
    "\n",
    "\n",
    "\n",
    "This notebook demonstrates how to use the Model Fine-tuning Service to fine-tune language models using Amazon Bedrock and create provisioned throughput for the fine-tuned models."
   ]
  },
  {
   "cell_type": "markdown",
   "metadata": {},
   "source": [
    "## Setup\n",
    "\n",
    "\n",
    "\n",
    "First, let's install the required packages and import the necessary modules."
   ]
  },
  {
   "cell_type": "code",
   "execution_count": null,
   "metadata": {},
   "outputs": [],
   "source": [
    "# Install the IDP common package\n",
    "%pip install -q -e \"../lib/idp_common_pkg\""
   ]
  },
  {
   "cell_type": "code",
   "execution_count": null,
   "metadata": {},
   "outputs": [],
   "source": [
    "from dotenv import load_dotenv\n",
    "load_dotenv()"
   ]
  },
  {
   "cell_type": "code",
   "execution_count": null,
   "metadata": {},
   "outputs": [],
   "source": [
    "import os\n",
    "import json\n",
    "import boto3\n",
    "import time\n",
    "import logging\n",
    "from typing import Dict, Any\n",
    "from botocore.exceptions import ClientError\n",
    "from datetime import datetime\n",
    "\n",
    "# Import the model fine-tuning service\n",
    "from idp_common.model_finetuning import (\n",
    "    ModelFinetuningService,\n",
    "    FinetuningJobConfig,\n",
    "    FinetuningJobResult,\n",
    "    JobStatus,\n",
    "    ProvisionedThroughputConfig,\n",
    "    ProvisionedThroughputResult\n",
    ")\n",
    "\n",
    "# Configure logging\n",
    "logging.basicConfig(level=logging.INFO)\n",
    "logger = logging.getLogger(__name__)"
   ]
  },
  {
   "cell_type": "markdown",
   "metadata": {},
   "source": [
    "## Create or Update IAM Role for Bedrock Fine-tuning\n",
    "\n",
    "\n",
    "\n",
    "This section creates or updates the IAM role with permissions to access ANY S3 bucket."
   ]
  },
  {
   "cell_type": "code",
   "execution_count": null,
   "metadata": {},
   "outputs": [],
   "source": [
    "# Set AWS region\n",
    "region = \"us-east-1\"  # Amazon Bedrock fine-tuning is currently only available in us-east-1\n",
    "\n",
    "def create_or_update_model_customization_role(role_name_base=\"IDPModelCustomizationRole\"):\n",
    "    \"\"\"\n",
    "    Creates or updates an IAM role with permissions to access ANY S3 bucket\n",
    "    for use with Amazon Bedrock fine-tuning.\n",
    "    \n",
    "    Args:\n",
    "        role_name_base: The base name for the IAM role\n",
    "        \n",
    "    Returns:\n",
    "        The ARN of the IAM role\n",
    "    \"\"\"\n",
    "    # Initialize the IAM client\n",
    "    iam_client = boto3.client('iam', region_name=region)\n",
    "    \n",
    "    # Add region suffix to role name for regional isolation\n",
    "    region_suffix = region.replace('-', '')\n",
    "    role_name = f\"{role_name_base}{region_suffix}\"\n",
    "    \n",
    "    # Define the trust policy - allows Bedrock service to assume this role\n",
    "    trust_policy = {\n",
    "        \"Version\": \"2012-10-17\",\n",
    "        \"Statement\": [\n",
    "            {\n",
    "                \"Effect\": \"Allow\",\n",
    "                \"Principal\": {\n",
    "                    \"Service\": \"bedrock.amazonaws.com\"\n",
    "                },\n",
    "                \"Action\": \"sts:AssumeRole\"\n",
    "            }\n",
    "        ]\n",
    "    }\n",
    "    \n",
    "    # Define the S3 access policy with access to ANY bucket\n",
    "    s3_policy = {\n",
    "        \"Version\": \"2012-10-17\",\n",
    "        \"Statement\": [\n",
    "            {\n",
    "                \"Effect\": \"Allow\",\n",
    "                \"Action\": [\n",
    "                    \"s3:GetObject\",\n",
    "                    \"s3:PutObject\",\n",
    "                    \"s3:ListBucket\"\n",
    "                ],\n",
    "                \"Resource\": [\n",
    "                    \"arn:aws:s3:::*\",\n",
    "                    \"arn:aws:s3:::*/*\"\n",
    "                ]\n",
    "            }\n",
    "        ]\n",
    "    }\n",
    "    \n",
    "    try:\n",
    "        # Check if the role already exists\n",
    "        try:\n",
    "            role = iam_client.get_role(RoleName=role_name)\n",
    "            print(f\"Role {role_name} already exists\")\n",
    "            \n",
    "            # Update the policy\n",
    "            policy_name = f\"{role_name}S3AccessPolicy\"\n",
    "            \n",
    "            # Check if policy exists and get its ARN\n",
    "            try:\n",
    "                policies = iam_client.list_attached_role_policies(RoleName=role_name)\n",
    "                policy_exists = False\n",
    "                policy_arn = None\n",
    "                \n",
    "                for policy in policies['AttachedPolicies']:\n",
    "                    if policy['PolicyName'] == policy_name:\n",
    "                        policy_arn = policy['PolicyArn']\n",
    "                        policy_exists = True\n",
    "                        break\n",
    "                \n",
    "                if policy_exists:\n",
    "                    # Detach and delete the existing policy\n",
    "                    iam_client.detach_role_policy(\n",
    "                        RoleName=role_name,\n",
    "                        PolicyArn=policy_arn\n",
    "                    )\n",
    "                    \n",
    "                    # AWS requires a delay when dealing with IAM\n",
    "                    time.sleep(2)\n",
    "                    \n",
    "                    iam_client.delete_policy(\n",
    "                        PolicyArn=policy_arn\n",
    "                    )\n",
    "                    print(f\"Deleted existing policy: {policy_name}\")\n",
    "            except ClientError as e:\n",
    "                print(f\"Error checking policies: {e}\")\n",
    "            \n",
    "            # Create a new policy\n",
    "            policy_response = iam_client.create_policy(\n",
    "                PolicyName=policy_name,\n",
    "                PolicyDocument=json.dumps(s3_policy),\n",
    "                Description='Policy for S3 access for Bedrock fine-tuning (any bucket)'\n",
    "            )\n",
    "            policy_arn = policy_response['Policy']['Arn']\n",
    "            \n",
    "            # Attach the policy to the role\n",
    "            iam_client.attach_role_policy(\n",
    "                RoleName=role_name,\n",
    "                PolicyArn=policy_arn\n",
    "            )\n",
    "            print(f\"Updated role {role_name} with new S3 access policy for ANY bucket\")\n",
    "            \n",
    "            # Return full role ARN with path\n",
    "            return role['Role']['Arn']\n",
    "            \n",
    "        except ClientError as e:\n",
    "            # Role doesn't exist, create it\n",
    "            if e.response['Error']['Code'] == 'NoSuchEntity':\n",
    "                print(f\"Role {role_name} doesn't exist. Creating...\")\n",
    "                \n",
    "                # Set the path for service roles\n",
    "                path = \"/service-role/\"\n",
    "                \n",
    "                # Create the role with trust policy\n",
    "                response = iam_client.create_role(\n",
    "                    Path=path,\n",
    "                    RoleName=role_name,\n",
    "                    AssumeRolePolicyDocument=json.dumps(trust_policy),\n",
    "                    Description=\"Role for Amazon Bedrock fine-tuning with S3 access to ANY bucket\"\n",
    "                )\n",
    "                role_arn = response['Role']['Arn']\n",
    "                \n",
    "                # Create a policy for S3 access\n",
    "                policy_name = f\"{role_name}S3AccessPolicy\"\n",
    "                policy_response = iam_client.create_policy(\n",
    "                    PolicyName=policy_name,\n",
    "                    PolicyDocument=json.dumps(s3_policy),\n",
    "                    Description='Policy for S3 access for Bedrock fine-tuning (any bucket)'\n",
    "                )\n",
    "                policy_arn = policy_response['Policy']['Arn']\n",
    "                \n",
    "                # Attach the policy to the role\n",
    "                iam_client.attach_role_policy(\n",
    "                    RoleName=role_name,\n",
    "                    PolicyArn=policy_arn\n",
    "                )\n",
    "                \n",
    "                print(f\"Created role {role_name} with S3 access policy for ANY bucket\")\n",
    "                print(f\"Allow some time for the role to propagate in AWS\")\n",
    "                \n",
    "                return role_arn\n",
    "            else:\n",
    "                raise\n",
    "    except ClientError as e:\n",
    "        print(f\"Error creating/updating role: {e}\")\n",
    "        return None\n",
    "\n",
    "# Create/update the role with expanded S3 permissions to allow access to ANY bucket\n",
    "role_arn = create_or_update_model_customization_role()"
   ]
  },
  {
   "cell_type": "markdown",
   "metadata": {},
   "source": [
    "## Configuration\n",
    "\n",
    "\n",
    "\n",
    "Set up the configuration for the fine-tuning job."
   ]
  },
  {
   "cell_type": "code",
   "execution_count": null,
   "metadata": {},
   "outputs": [],
   "source": [
    "# Print the role ARN being used\n",
    "print(f\"Using role ARN: {role_arn}\")\n",
    "\n",
    "# Set S3 URIs for training and validation data\n",
    "training_data_uri = \"s3://test-idp-finetuning-data-us-east-1/rvl-cdip-sampled/train.jsonl\"  # Replace with your training data URI\n",
    "validation_data_uri = \"s3://test-idp-finetuning-data-us-east-1/rvl-cdip-sampled/validation.jsonl\"  # Optional: Replace with your validation data URI\n",
    "output_uri = \"s3://test-idp-finetuning-data-us-east-1/\"  # Replace with your output URI\n",
    "\n",
    "# Set job and model names\n",
    "# Generate a human-readable timestamp (format: YYYYMMDD_HHMMSS) \n",
    "timestamp = datetime.now().strftime(\"%Y%m%d-%H%M%S\")\n",
    "job_name = f\"test-ft-benchmark-1-job-{timestamp}\"\n",
    "assert len(job_name) <= 63, \"Job name must be 63 characters or fewer\" \n",
    "assert job_name[0].isalnum(), \"Job name must start with an alphanumeric character\" \n",
    "assert all(c.isalnum() or c in '-+.' for c in job_name.replace('-', '')), \"Job name can only contain alphanumeric, hyphen, plus, and period characters\" \n",
    "print(f\"Job name: {job_name}\")\n",
    "\n",
    "\n",
    "model_name = \"test-ft-benchmark-1-nova-lite\"\n",
    "assert len(model_name) <= 63, \"Model name must be 63 characters or fewer\"\n",
    "\n",
    "\n",
    "# Choose the base model to fine-tune\n",
    "base_model = \"arn:aws:bedrock:us-east-1::foundation-model/amazon.nova-lite-v1:0:300k\"\n",
    "\n",
    "# Set hyperparameters\n",
    "hyperparameters = {\n",
    "    \"epochCount\": \"1\",\n",
    "    \"learningRate\": \"0.0001\",\n",
    "    \"batchSize\": \"1\"\n",
    "}"
   ]
  },
  {
   "cell_type": "markdown",
   "metadata": {},
   "source": [
    "## Initialize the Model Fine-tuning Service\n",
    "\n",
    "\n",
    "\n",
    "Create an instance of the ModelFinetuningService."
   ]
  },
  {
   "cell_type": "code",
   "execution_count": null,
   "metadata": {},
   "outputs": [],
   "source": [
    "# Create configuration dictionary\n",
    "config = {\n",
    "    \"model_finetuning\": {\n",
    "        \"base_models\": base_model,\n",
    "        \"hyperparameters\": {\n",
    "            \"default\": {\n",
    "                \"epochCount\": \"2\",\n",
    "                \"learningRate\": \"0.00001\",\n",
    "                \"batchSize\": \"1\"\n",
    "            }\n",
    "        }\n",
    "    }\n",
    "}\n",
    "\n",
    "# Initialize the service\n",
    "finetuning_service = ModelFinetuningService(region=region, config=config)\n",
    "print(\"Model Fine-tuning Service initialized.\")"
   ]
  },
  {
   "cell_type": "markdown",
   "metadata": {},
   "source": [
    "## Option 1: Create a Fine-tuning Job with Separate Validation Data\n",
    "\n",
    "\n",
    "\n",
    "Create a fine-tuning job with separate training and validation data."
   ]
  },
  {
   "cell_type": "code",
   "execution_count": null,
   "metadata": {},
   "outputs": [],
   "source": [
    "# Create fine-tuning job configuration\n",
    "job_config = FinetuningJobConfig(\n",
    "    base_model=base_model,\n",
    "    training_data_uri=training_data_uri,\n",
    "    validation_data_uri=validation_data_uri,  # Optional: Remove if not using separate validation data\n",
    "    output_uri=output_uri,\n",
    "    role_arn=role_arn,\n",
    "    job_name=job_name,\n",
    "    model_name=model_name,\n",
    "    hyperparameters=hyperparameters,\n",
    "    model_type=\"nova\"  # Specify the model type\n",
    ")\n",
    "\n",
    "# Create fine-tuning job\n",
    "job_result = finetuning_service.create_finetuning_job(job_config)\n",
    "print(f\"Created fine-tuning job: {job_result.job_arn}\")"
   ]
  },
  {
   "cell_type": "markdown",
   "metadata": {},
   "source": [
    "## Check Fine-tuning Job Status\n",
    "\n",
    "\n",
    "\n",
    "Check the status of the fine-tuning job."
   ]
  },
  {
   "cell_type": "code",
   "execution_count": null,
   "metadata": {},
   "outputs": [],
   "source": [
    "# Check job status\n",
    "status = finetuning_service.get_job_status(job_result.job_arn, model_type=\"nova\")\n",
    "print(f\"Job status: {status.status}\")"
   ]
  },
  {
   "cell_type": "markdown",
   "metadata": {},
   "source": [
    "## Wait for Job Completion\n",
    "\n",
    "\n",
    "\n",
    "Wait for the fine-tuning job to complete."
   ]
  },
  {
   "cell_type": "code",
   "execution_count": null,
   "metadata": {},
   "outputs": [],
   "source": [
    "# Wait for job completion\n",
    "final_status = finetuning_service.wait_for_job_completion(\n",
    "    job_result.job_arn,\n",
    "    model_type=\"nova\",\n",
    "    polling_interval=60,\n",
    "    max_wait_time=3600  # 1 hour\n",
    ")\n",
    "print(f\"Job completed with status: {final_status.status}\")\n",
    "print(f\"Model ID: {final_status.model_id}\")"
   ]
  },
  {
   "cell_type": "markdown",
   "metadata": {},
   "source": [
    "## Create Provisioned Throughput\n",
    "\n",
    "\n",
    "\n",
    "Create provisioned throughput for the fine-tuned model."
   ]
  },
  {
   "cell_type": "code",
   "execution_count": null,
   "metadata": {},
   "outputs": [],
   "source": [
    "client = boto3.client(\"bedrock\") \n",
    "job = client.get_model_customization_job(jobIdentifier=job_result.job_arn)\n",
    "throughput_config = ProvisionedThroughputConfig(\n",
    "    model_id=job[\"outputModelArn\"],\n",
    "    provisioned_model_name=f\"{model_name}-provisioned\",\n",
    "    model_units=1,\n",
    "    model_type=\"nova\"\n",
    ")\n",
    "\n",
    "# Create provisioned throughput\n",
    "throughput_result = finetuning_service.create_provisioned_throughput(throughput_config)\n",
    "print(f\"Created provisioned throughput: {throughput_result.provisioned_model_id}\")"
   ]
  },
  {
   "cell_type": "code",
   "execution_count": null,
   "metadata": {},
   "outputs": [],
   "source": [
    "status_provisioning = client.get_provisioned_model_throughput(provisionedModelId = throughput_result.provisioned_model_arn)['status']\n",
    "\n",
    "import time\n",
    "while status_provisioning == 'Creating':\n",
    "    time.sleep(60)\n",
    "    status_provisioning = client.get_provisioned_model_throughput(provisionedModelId=job[\"provisionedModelName\"])['status']\n",
    "    print(status_provisioning)\n",
    "    time.sleep(60)"
   ]
  },
  {
   "cell_type": "markdown",
   "metadata": {},
   "source": [
    "## Wait for Provisioning Completion\n",
    "\n",
    "\n",
    "\n",
    "Wait for the provisioning to complete."
   ]
  },
  {
   "cell_type": "code",
   "execution_count": null,
   "metadata": {},
   "outputs": [],
   "source": [
    "# Wait for provisioning to complete\n",
    "final_throughput_status = finetuning_service.wait_for_provisioning_completion(\n",
    "    throughput_result.provisioned_model_arn,\n",
    "    model_type=\"nova\",\n",
    "    polling_interval=5,\n",
    "    max_wait_time=1800  # 30 minutes\n",
    ")\n",
    "print(f\"Provisioning completed with status: {final_throughput_status.status}\")"
   ]
  },
  {
   "cell_type": "markdown",
   "metadata": {},
   "source": [
    "## Clean Up Resources\n",
    "\n",
    "\n",
    "\n",
    "Delete the provisioned throughput to avoid incurring costs."
   ]
  },
  {
   "cell_type": "code",
   "execution_count": null,
   "metadata": {},
   "outputs": [],
   "source": [
    "# Delete provisioned throughput\n",
    "response = finetuning_service.delete_provisioned_throughput(\n",
    "    throughput_result.provisioned_model_arn,\n",
    "    model_type=\"nova\"\n",
    ")\n",
    "print(f\"Deleted provisioned throughput: {throughput_result.provisioned_model_id}\")"
   ]
  },
  {
   "cell_type": "markdown",
   "metadata": {},
   "source": [
    "## Option 2: Create a Fine-tuning Job with Automatic Data Splitting\n",
    "\n",
    "\n",
    "\n",
    "Create a fine-tuning job with automatic data splitting."
   ]
  },
  {
   "cell_type": "code",
   "execution_count": null,
   "metadata": {},
   "outputs": [],
   "source": [
    "# Create fine-tuning job configuration with automatic data splitting\n",
    "job_config_auto_split = FinetuningJobConfig(\n",
    "    base_model=base_model,\n",
    "    training_data_uri=training_data_uri,  # Only provide training data\n",
    "    output_uri=output_uri,\n",
    "    role_arn=role_arn,\n",
    "    job_name=f\"{job_name}-auto-split\",\n",
    "    model_name=f\"{model_name}-auto-split\",\n",
    "    hyperparameters=hyperparameters,\n",
    "    validation_split=0.2,  # Specify validation split ratio\n",
    "    model_type=\"nova\"\n",
    ")\n",
    "\n",
    "# Uncomment to create fine-tuning job with automatic data splitting\n",
    "# job_result_auto_split = finetuning_service.create_finetuning_job(job_config_auto_split)\n",
    "# print(f\"Created fine-tuning job with automatic data splitting: {job_result_auto_split.job_arn}\")"
   ]
  }
 ],
 "metadata": {
  "kernelspec": {
   "display_name": "genaiic-idp-accelerator",
   "language": "python",
   "name": "python3"
  },
  "language_info": {
   "codemirror_mode": {
    "name": "ipython",
    "version": 3
   },
   "file_extension": ".py",
   "mimetype": "text/x-python",
   "name": "python",
   "nbconvert_exporter": "python",
   "pygments_lexer": "ipython3",
   "version": "3.13.2"
  }
 },
 "nbformat": 4,
 "nbformat_minor": 2
}
